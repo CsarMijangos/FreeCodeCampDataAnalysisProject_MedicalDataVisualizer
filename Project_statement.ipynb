{
 "cells": [
  {
   "cell_type": "markdown",
   "id": "f6fba90f",
   "metadata": {},
   "source": [
    "## Assignment\n",
    "\n",
    "In this project, you will visualize and make calculations from medical examination data using matplotlib, seaborn, and pandas. The dataset values were collected during medical examinations.\n",
    "\n",
    "## Data description\n",
    "\n",
    "The rows in the dataset represent patients and the columns represent information like body measurements, results from various blood tests, and lifestyle choices. You will use the dataset to explore the relationship between cardiac disease, body measurements, blood markers, and lifestyle choices.\n",
    "\n",
    "File name: medical_examination.csv\n",
    "\n",
    "Feature\tVariable Type\tVariable\tValue Type\n",
    "Age\tObjective Feature\tage\tint (days)\n",
    "Height\tObjective Feature\theight\tint (cm)\n",
    "Weight\tObjective Feature\tweight\tfloat (kg)\n",
    "Gender\tObjective Feature\tgender\tcategorical code\n",
    "Systolic blood pressure\tExamination Feature\tap_hi\tint\n",
    "Diastolic blood pressure\tExamination Feature\tap_lo\tint\n",
    "Cholesterol\tExamination Feature\tcholesterol\t1: normal, 2: above normal, 3: well above normal\n",
    "Glucose\tExamination Feature\tgluc\t1: normal, 2: above normal, 3: well above normal\n",
    "Smoking\tSubjective Feature\tsmoke\tbinary\n",
    "Alcohol intake\tSubjective Feature\talco\tbinary\n",
    "Physical activity\tSubjective Feature\tactive\tbinary\n",
    "Presence or absence of cardiovascular disease\tTarget Variable\tcardio\tbinary\n",
    "\n",
    "## Tasks\n",
    "\n",
    "Create a chart similar to examples/Figure_1.png, where we show the counts of good and bad outcomes for the cholesterol, gluc, alco, active, and smoke variables for patients with cardio=1 and cardio=0 in different panels.\n",
    "\n",
    "Use the data to complete the following tasks in medical_data_visualizer.py:\n",
    "\n",
    "- Add an overweight column to the data. To determine if a person is overweight, first calculate their BMI by dividing their weight in kilograms by the square of their height in meters. If that value is > 25 then the person is overweight. Use the value 0 for NOT overweight and the value 1 for overweight.\n",
    "\n",
    "- Normalize the data by making 0 always good and 1 always bad. If the value of cholesterol or gluc is 1, make the value 0. If the value is more than 1, make the value 1.\n",
    "\n",
    "- Convert the data into long format and create a chart that shows the value counts of the categorical features using seaborn's catplot(). The dataset should be split by 'Cardio' so there is one chart for each cardio value. The chart should look like examples/Figure_1.png.\n",
    "\n",
    "- Clean the data. Filter out the following patient segments that represent incorrect data:\n",
    "    - diastolic pressure is higher than systolic (Keep the correct data with (df['ap_lo'] <= df['ap_hi']))\n",
    "    - height is less than the 2.5th percentile (Keep the correct data with (df['height'] >= df['height'].quantile(0.025)))\n",
    "    - height is more than the 97.5th percentile\n",
    "    - weight is less than the 2.5th percentile\n",
    "    - weight is more than the 97.5th percentile\n",
    "- Create a correlation matrix using the dataset. Plot the correlation matrix using seaborn's heatmap(). Mask the upper triangle. The chart should look like examples/Figure_2.png.\n",
    "\n",
    "Any time a variable is set to None, make sure to set it to the correct code.\n",
    "\n",
    "Unit tests are written for you under test_module.py.\n",
    "\n",
    "## Development\n",
    "For development, you can use main.py to test your functions. Click the \"run\" button and main.py will run.\n",
    "\n",
    "## Testing\n",
    "We imported the tests from test_module.py to main.py for your convenience. The tests will run automatically whenever you hit the \"run\" button.\n",
    "\n",
    "## Submitting\n",
    "Copy your project's URL and submit it to freeCodeCamp."
   ]
  }
 ],
 "metadata": {
  "kernelspec": {
   "display_name": "Python 3 (ipykernel)",
   "language": "python",
   "name": "python3"
  },
  "language_info": {
   "codemirror_mode": {
    "name": "ipython",
    "version": 3
   },
   "file_extension": ".py",
   "mimetype": "text/x-python",
   "name": "python",
   "nbconvert_exporter": "python",
   "pygments_lexer": "ipython3",
   "version": "3.9.1"
  }
 },
 "nbformat": 4,
 "nbformat_minor": 5
}
